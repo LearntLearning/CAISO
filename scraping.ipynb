{
 "cells": [
  {
   "cell_type": "code",
   "execution_count": null,
   "id": "3a10aa72-392b-4115-b618-83132155754d",
   "metadata": {},
   "outputs": [],
   "source": [
    "from selenium import webdriver\n",
    "import pandas as pd\n",
    "import numpy as np\n",
    "import time"
   ]
  },
  {
   "cell_type": "code",
   "execution_count": null,
   "id": "5e1acaeb-8152-4d82-a135-18f1e18f456e",
   "metadata": {},
   "outputs": [],
   "source": [
    "browser = webdriver.Chrome('chromedriver')"
   ]
  },
  {
   "cell_type": "code",
   "execution_count": null,
   "id": "c3443013-bc75-481b-8425-66a38c05c207",
   "metadata": {},
   "outputs": [],
   "source": [
    "#supply page scraping\n",
    "browser.get('https://www.caiso.com/TodaysOutlook/Pages/supply.aspx')"
   ]
  },
  {
   "cell_type": "code",
   "execution_count": null,
   "id": "699f5851-d711-462d-be96-79e7c79171a9",
   "metadata": {},
   "outputs": [],
   "source": [
    "#download files from each day on this page\n",
    "for n in range(4):\n",
    "    \n",
    "    #click on corresponding calendar\n",
    "    browser.find_elements_by_xpath('//input[@type = \"text\"]')[n+1].click()\n",
    "    \n",
    "    #as long as there are days contain actual data\n",
    "    while len(browser.find_elements_by_xpath('//td[@class = \"day\"]')) > 0:\n",
    "        numbers = []\n",
    "        \n",
    "        #for each day in month that contains data\n",
    "        for i in browser.find_elements_by_xpath('//td[@class = \"day\"]'):\n",
    "            \n",
    "            #creat a number list indicating the number of days to be clicked each month\n",
    "            numbers.append(i.text)\n",
    "        \n",
    "        #actual clicking for each day\n",
    "        for num in numbers:\n",
    "            \n",
    "            #click on the date\n",
    "            browser.find_element_by_xpath('//td[@class = \"day\" and text() = {}]'.format(num)).click()\n",
    "            \n",
    "            #adding 2 seconds wait to avoid incomplete data being downloaded; unecessary it seems, try 1 second delay if multiple files were less than 288 rows\n",
    "            #time.sleep(1)\n",
    "            \n",
    "            #click on 'Data' button\n",
    "            browser.find_elements_by_xpath(\"//button[@data-toggle = 'dropdown']\")[n].click()\n",
    "            \n",
    "            #click on 'Download CSV' button\n",
    "            browser.find_elements_by_xpath('//a[@class = \"dropdown-item\"]')[n].click()\n",
    "            \n",
    "            #click on calendar button again so the next loop can start\n",
    "            browser.find_elements_by_xpath('//input[@type = \"text\"]')[n+1].click()\n",
    "        \n",
    "        #at the end of each month, click the arrow to go to the next month\n",
    "        browser.find_element_by_xpath('//th[@class = \"next\"]').click() \n"
   ]
  },
  {
   "cell_type": "code",
   "execution_count": null,
   "id": "860fc5e3-b92d-4c90-bbf8-c3673abf050f",
   "metadata": {},
   "outputs": [],
   "source": [
    "#emission page scraping\n",
    "browser.get('https://www.caiso.com/TodaysOutlook/Pages/emissions.aspx')"
   ]
  },
  {
   "cell_type": "code",
   "execution_count": null,
   "id": "8bb4ffa8-5edd-4b0b-bef3-ce47d008cb07",
   "metadata": {},
   "outputs": [],
   "source": [
    "#download CSV files from emission page\n",
    "for n in range(2):\n",
    "    \n",
    "    #click on corresponding calendar\n",
    "    browser.find_elements_by_xpath('//input[@type = \"text\"]')[n+1].click()\n",
    "    \n",
    "    #as long as there are days contain actual data\n",
    "    while len(browser.find_elements_by_xpath('//td[@class = \"day\"]')) > 0:\n",
    "        numbers = []\n",
    "        \n",
    "        #for each day in month that contains data\n",
    "        for i in browser.find_elements_by_xpath('//td[@class = \"day\"]'):\n",
    "            \n",
    "            #creat a number list indicating the number of days to be clicked each month\n",
    "            numbers.append(i.text)\n",
    "        \n",
    "        #actual clicking for each day\n",
    "        for num in numbers:\n",
    "            \n",
    "            #click on the date\n",
    "            browser.find_element_by_xpath('//td[@class = \"day\" and text() = {}]'.format(num)).click()\n",
    "            \n",
    "            #adding 2 seconds wait to avoid incomplete data being downloaded\n",
    "            #time.sleep(2)\n",
    "            \n",
    "            #click on 'Data' button\n",
    "            browser.find_elements_by_xpath(\"//button[@data-toggle = 'dropdown']\")[2*n].click()\n",
    "            \n",
    "            #click on 'Download CSV' button\n",
    "            browser.find_elements_by_xpath('//a[@class = \"dropdown-item\"]')[n].click()\n",
    "            \n",
    "            #click on calendar button again so the next loop can start\n",
    "            browser.find_elements_by_xpath('//input[@type = \"text\"]')[n+1].click()\n",
    "        \n",
    "        #at the end of each month, click the arrow to go to the next month\n",
    "        browser.find_element_by_xpath('//th[@class = \"next\"]').click()"
   ]
  },
  {
   "cell_type": "code",
   "execution_count": null,
   "id": "f2c551e8-5961-4322-a015-c84b50e5de5a",
   "metadata": {},
   "outputs": [],
   "source": [
    "#demand page scraping\n",
    "browser.get('https://www.caiso.com/TodaysOutlook/Pages/default.aspx')"
   ]
  },
  {
   "cell_type": "code",
   "execution_count": null,
   "id": "49df11ee-f870-41c4-884c-cc7c72255770",
   "metadata": {},
   "outputs": [],
   "source": [
    "#download CSV files from demand page\n",
    "for n in range(2):\n",
    "    \n",
    "    #click on corresponding calendar\n",
    "    browser.find_elements_by_xpath('//input[@type = \"text\"]')[n+1].click()\n",
    "    \n",
    "    #as long as there are days contain actual data\n",
    "    while len(browser.find_elements_by_xpath('//td[@class = \"day\"]')) > 0:\n",
    "        numbers = []\n",
    "        \n",
    "        #for each day in month that contains data\n",
    "        for i in browser.find_elements_by_xpath('//td[@class = \"day\"]'):\n",
    "            \n",
    "            #creat a number list indicating the number of days to be clicked each month\n",
    "            numbers.append(i.text)\n",
    "        \n",
    "        #actual clicking for each day\n",
    "        for num in numbers:\n",
    "            \n",
    "            #click on the date\n",
    "            browser.find_element_by_xpath('//td[@class = \"day\" and text() = {}]'.format(num)).click()\n",
    "            \n",
    "            #adding 2 seconds wait to avoid incomplete data being downloaded\n",
    "            #time.sleep(2)\n",
    "            \n",
    "            #click on 'Data' button\n",
    "            browser.find_elements_by_xpath(\"//button[@data-toggle = 'dropdown']\")[2*n].click()\n",
    "            \n",
    "            #click on 'Download CSV' button\n",
    "            browser.find_elements_by_xpath('//a[@class = \"dropdown-item\"]')[n].click()\n",
    "            \n",
    "            #click on calendar button again so the next loop can start\n",
    "            browser.find_elements_by_xpath('//input[@type = \"text\"]')[n+1].click()\n",
    "        \n",
    "        #at the end of each month, click the arrow to go to the next month\n",
    "        browser.find_element_by_xpath('//th[@class = \"next\"]').click()"
   ]
  }
 ],
 "metadata": {
  "kernelspec": {
   "display_name": "Python 3",
   "language": "python",
   "name": "python3"
  },
  "language_info": {
   "codemirror_mode": {
    "name": "ipython",
    "version": 3
   },
   "file_extension": ".py",
   "mimetype": "text/x-python",
   "name": "python",
   "nbconvert_exporter": "python",
   "pygments_lexer": "ipython3",
   "version": "3.8.10"
  }
 },
 "nbformat": 4,
 "nbformat_minor": 5
}
